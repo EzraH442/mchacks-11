{
 "cells": [
  {
   "cell_type": "code",
   "execution_count": 35,
   "metadata": {},
   "outputs": [],
   "source": [
    "import pygad\n",
    "import numpy\n",
    "import json\n",
    "import os\n",
    "import random\n"
   ]
  },
  {
   "cell_type": "code",
   "execution_count": 36,
   "metadata": {},
   "outputs": [
    {
     "name": "stdout",
     "output_type": "stream",
     "text": [
      "[6.115622685002109, 4.259432227925034, -9.310771881815677, 17.27561402147568, -1.9284211462958267, -1.838513470646567] 99.58764072647486\n"
     ]
    }
   ],
   "source": [
    "def initialize_population(sol_per_pop, num_genes, low_end, high_end):\n",
    "    population = []\n",
    "    for _ in range(sol_per_pop):\n",
    "        chromosome = []\n",
    "        for _ in range(num_genes):\n",
    "            gene = random.uniform(low_end, high_end)\n",
    "            chromosome.append(gene)\n",
    "        population.append(chromosome)\n",
    "    return population\n",
    "\n",
    "def calculate_fitness(solution, function_inputs, desired_output):\n",
    "    elementwise_multiplication = [x * y for x, y in zip(solution, function_inputs)]\n",
    "    output = sum(elementwise_multiplication)\n",
    "    fitness = 1.0 / numpy.abs(output - desired_output)\n",
    "    return fitness\n",
    "\n",
    "def select_parents(population, num_parents_mating, desired_output, solution):\n",
    "    parents = []\n",
    "    for _ in range(num_parents_mating):\n",
    "        max_fitness = -1\n",
    "        max_fitness_index = -1\n",
    "        for i in range(len(population)):\n",
    "            fitness = calculate_fitness(population[i], solution, desired_output)\n",
    "            if fitness > max_fitness:\n",
    "                max_fitness = fitness\n",
    "                max_fitness_index = i\n",
    "        parents.append(population[max_fitness_index])\n",
    "        population.pop(max_fitness_index)\n",
    "    return parents\n",
    "\n",
    "def crossover(parents, num_genes):\n",
    "    offspring = []\n",
    "    for i in range(len(parents)-1):\n",
    "        parent1 = parents[i]\n",
    "        parent2 = parents[(i+1)]\n",
    "        child = []\n",
    "        for j in range(num_genes):\n",
    "            if random.random() < 0.5:\n",
    "                child.append(parent1[j])\n",
    "            else:\n",
    "                child.append(parent2[j])\n",
    "        offspring.append(child)\n",
    "    return offspring\n",
    "\n",
    "def mutate(offspring):\n",
    "    for i in range(len(offspring)):\n",
    "        for j in range(len(offspring[i])):\n",
    "            if random.random() < 0.1:\n",
    "                offspring[i][j] = offspring[i][j] + random.uniform(-1, 1)\n",
    "    return offspring\n",
    "\n",
    "def genetic_algorithm(num_generations, num_parents_mating, sol_per_pop, num_genes, low_end, high_end, desired_output, solution):\n",
    "    population = initialize_population(sol_per_pop, num_genes, low_end, high_end)\n",
    "    output =0\n",
    "    while abs(output - desired_output) > 1: \n",
    "        parents = select_parents(population, num_parents_mating, desired_output, solution)\n",
    "        offspring = crossover(parents, num_genes)\n",
    "        offspring = mutate(offspring)\n",
    "        population = parents + offspring\n",
    "        best = select_parents(population, 1, desired_output, solution)\n",
    "        best = best[0]\n",
    "        elementwise_multiplication = [x * y for x, y in zip(solution, best)]\n",
    "        output = sum(elementwise_multiplication)\n",
    "    return best, output\n",
    "    \n",
    "\n",
    "num_generations = 10000\n",
    "num_parents_mating = 3\n",
    "sol_per_pop = 30\n",
    "num_genes = 6\n",
    "low_end = -2\n",
    "high_end = 10\n",
    "\n",
    "desired_output = 100\n",
    "solution = (4,-2,3.5,5,-11,-4.7) \n",
    "\n",
    "\n",
    "best, output = genetic_algorithm(num_generations, num_parents_mating, sol_per_pop, num_genes, low_end, high_end, desired_output, solution)\n",
    "print(best, output)\n",
    "\n"
   ]
  }
 ],
 "metadata": {
  "kernelspec": {
   "display_name": "Python 3",
   "language": "python",
   "name": "python3"
  },
  "language_info": {
   "codemirror_mode": {
    "name": "ipython",
    "version": 3
   },
   "file_extension": ".py",
   "mimetype": "text/x-python",
   "name": "python",
   "nbconvert_exporter": "python",
   "pygments_lexer": "ipython3",
   "version": "3.11.7"
  }
 },
 "nbformat": 4,
 "nbformat_minor": 2
}
